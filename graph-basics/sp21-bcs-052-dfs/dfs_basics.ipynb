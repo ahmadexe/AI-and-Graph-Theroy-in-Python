{
 "cells": [
  {
   "attachments": {},
   "cell_type": "markdown",
   "metadata": {},
   "source": [
    "# DFS Basics"
   ]
  },
  {
   "cell_type": "code",
   "execution_count": 6,
   "metadata": {},
   "outputs": [],
   "source": [
    "class Graph:\n",
    "    def __init__(self, graph, weighted: bool):\n",
    "        self.graph = graph\n",
    "        self.weighted = weighted\n",
    "        \n",
    "    def printGraph(self):\n",
    "        print(self.graph)\n",
    "        \n",
    "    def DFS(self, source):\n",
    "        distance = {}\n",
    "        visited = {}\n",
    "        parents = {}\n",
    "        dfs_output = []\n",
    "        for node in self.graph.keys():\n",
    "            distance[node] = -1\n",
    "            visited[node] = False\n",
    "            parents[node] = None\n",
    "            \n",
    "        stack = []\n",
    "        stack.append(source)\n",
    "        visited[source] = True\n",
    "        distance[source] = 0\n",
    "        parents[source] = None\n",
    "        \n",
    "        while len(stack) != 0:\n",
    "            node = stack.pop()\n",
    "            dfs_output.append(node)\n",
    "            for child in self.graph[node]:\n",
    "                if not visited[child]:\n",
    "                    visited[child] = True\n",
    "                    distance[child] = distance[node] + 1\n",
    "                    parents[child] = node\n",
    "                    stack.append(child)\n",
    "                    \n",
    "        return {\n",
    "            'dfs_output': dfs_output,\n",
    "            'distance': distance,\n",
    "            'parents': parents\n",
    "        }\n",
    "        \n",
    "    \n",
    "    def getPath(self, source, destination):\n",
    "        dfs = self.DFS(source)\n",
    "        parents = dfs['parents']\n",
    "        location = destination\n",
    "        path = []\n",
    "        while location != None:\n",
    "            path.append(location)\n",
    "            location = parents[location]\n",
    "        path.reverse()\n",
    "        return path"
   ]
  },
  {
   "cell_type": "code",
   "execution_count": 10,
   "metadata": {},
   "outputs": [],
   "source": [
    "def main():\n",
    "    g = {\n",
    "        'A': ['B', 'E', 'C'],\n",
    "        'B': ['A', 'E', 'D'],\n",
    "        'C': ['A', 'F', 'G'],\n",
    "        'D': ['B', 'E'],\n",
    "        'E': ['A', 'B', 'D'],\n",
    "        'F': ['C'],\n",
    "        'G': ['C'],\n",
    "    }\n",
    "    \n",
    "    graph = Graph(g, weighted=False)\n",
    "    dfs = graph.DFS('A')\n",
    "    print(dfs['dfs_output'])\n",
    "    path = graph.getPath('D', 'C')\n",
    "    print(path)"
   ]
  },
  {
   "cell_type": "code",
   "execution_count": 11,
   "metadata": {},
   "outputs": [
    {
     "name": "stdout",
     "output_type": "stream",
     "text": [
      "['A', 'C', 'G', 'F', 'E', 'D', 'B']\n",
      "['D', 'E', 'A', 'C']\n"
     ]
    }
   ],
   "source": [
    "if __name__ == '__main__':\n",
    "    main()"
   ]
  }
 ],
 "metadata": {
  "kernelspec": {
   "display_name": "Python 3",
   "language": "python",
   "name": "python3"
  },
  "language_info": {
   "codemirror_mode": {
    "name": "ipython",
    "version": 3
   },
   "file_extension": ".py",
   "mimetype": "text/x-python",
   "name": "python",
   "nbconvert_exporter": "python",
   "pygments_lexer": "ipython3",
   "version": "3.11.2"
  },
  "orig_nbformat": 4
 },
 "nbformat": 4,
 "nbformat_minor": 2
}
