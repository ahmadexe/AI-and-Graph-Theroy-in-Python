{
 "cells": [
  {
   "attachments": {},
   "cell_type": "markdown",
   "metadata": {},
   "source": [
    "# Basics of BFS"
   ]
  },
  {
   "cell_type": "code",
   "execution_count": 12,
   "metadata": {},
   "outputs": [],
   "source": [
    "from queue import Queue\n",
    "\n",
    "class Graph:\n",
    "    def __init__(self, graph, directed):\n",
    "        self.graph = graph\n",
    "        self.directed = directed\n",
    "    \n",
    "    def printGraph(self):\n",
    "        print(self.graph)\n",
    "     \n",
    "    def BFS(self, source):\n",
    "        visited = {}\n",
    "        parent = {}\n",
    "        distance = {} \n",
    "        bfs_traversal_output = []\n",
    "        if not self.directed:\n",
    "                        \n",
    "            for node in self.graph.keys():\n",
    "                visited[node] = False\n",
    "                parent[node] = None\n",
    "                distance[node] = -1\n",
    "            \n",
    "            q = Queue()\n",
    "            visited[source] = True\n",
    "            distance[source] = 0\n",
    "            parent[source] = None\n",
    "            q.put(source)\n",
    "            \n",
    "            while not q.empty():\n",
    "                node = q.get()\n",
    "                bfs_traversal_output.append(node)\n",
    "                for child in self.graph[node]:\n",
    "                    if not visited[child]:\n",
    "                        visited[child] = True\n",
    "                        distance[child] = distance[node] + 1\n",
    "                        parent[child] = node\n",
    "                        q.put(child)\n",
    "                \n",
    "            return {\n",
    "                'output': bfs_traversal_output,\n",
    "                'parents_list': parent\n",
    "            }\n",
    "        \n",
    "        else:\n",
    "            for node in self.graph.keys():\n",
    "                visited[node] = False\n",
    "                parent[node] = None\n",
    "                distance[node] = -1\n",
    "            \n",
    "            q = Queue()\n",
    "            visited[source] = True\n",
    "            distance[source] = 0\n",
    "            parent[source] = None\n",
    "            q.put(source)\n",
    "            \n",
    "            while not q.empty():\n",
    "                node = q.get()\n",
    "                bfs_traversal_output.append(node)\n",
    "                for child in self.graph[node]:\n",
    "                    if not visited[child[0]]:\n",
    "                        visited[child[0]] = True\n",
    "                        distance[child[0]] = distance[node] + child[1]\n",
    "                        parent[child[0]] = node\n",
    "                        q.put(child[0])           \n",
    "            \n",
    "            return {\n",
    "                'output': bfs_traversal_output,\n",
    "                'distance_from_source': distance,\n",
    "                'parents_list': parent,\n",
    "            }\n",
    "    \n",
    "    \n",
    "    def getPath(self, source, destination):\n",
    "        bfs = self.BFS(source)\n",
    "        parents = bfs['parents_list']\n",
    "        location = destination\n",
    "        path = []\n",
    "        while location is not None:\n",
    "            path.append(location)\n",
    "            location = parents[location]\n",
    "        path.reverse()\n",
    "        return path\n",
    "        \n",
    "    \n",
    "    def getDistance(self ,source, destination):\n",
    "        bfs = self.BFS(source)\n",
    "        distance = bfs['distance_from_source']\n",
    "        return distance[destination]\n",
    "        "
   ]
  },
  {
   "cell_type": "code",
   "execution_count": 13,
   "metadata": {},
   "outputs": [
    {
     "name": "stdout",
     "output_type": "stream",
     "text": [
      "['Arad', 'Sibiu', 'Fagaras', 'Bucharest']\n",
      "450\n"
     ]
    }
   ],
   "source": [
    "def main():\n",
    "    g = {\n",
    "        'Arad': [('Zerind', 75), ('Timisoara', 118), ('Sibiu', 140)],\n",
    "        'Zerind': [('Arad', 75), ('Oradea', 71)],\n",
    "        'Oradea': [('Zerind', 71),('Sibiu', 151)],\n",
    "        'Timisoara': [('Arad', 118), ('Lugoj', 111)],\n",
    "        'Lugoj': [('Timisoara', 111), ('Mehadia', 70)],\n",
    "        'Mehadia': [('Lugoj', 70), ('Drobeta', 75)],\n",
    "        'Drobeta': [('Mehadia', 75),('Craiova', 120)],\n",
    "        'Craiova': [('Drobeta', 120),('Rimnicu Vilcea', 146),('Pitesti', 138)],\n",
    "        'Rimnicu Vilcea': [('Craiova', 146),('Pitesti', 97), ('Sibiu', 80)],\n",
    "        'Sibiu': [('Rimnicu Vilcea', 80), ('Fagaras', 99),('Oradea', 151)],\n",
    "        'Fagaras': [('Sibiu', 99),('Bucharest', 211)],\n",
    "        'Pitesti': [('Rimnicu Vilcea', 97), ('Craiova', 138), ('Bucharest', 101)],\n",
    "        'Bucharest': [('Pitesti', 101), ('Fagaras', 211), ('Giurgiu', 90), ('Urziceni', 85)],\n",
    "        'Urziceni': [('Bucharest', 85), ('Hirsova', 98), ('Vaslui', 142)],\n",
    "        'Giurgiu': [('Bucharest', 90)],\n",
    "        'Hirsova': [('Urziceni', 98)],\n",
    "        'Vaslui': [('Urziceni', 142)]\n",
    "    }\n",
    "    \n",
    "    graph = Graph(g, True)\n",
    "    path = graph.getPath(\"Arad\", \"Bucharest\")\n",
    "    print(path)\n",
    "    distance = graph.getDistance('Arad', 'Bucharest')\n",
    "    print(distance)\n",
    "    \n",
    "if __name__ == \"__main__\":\n",
    "    main()   \n"
   ]
  },
  {
   "cell_type": "code",
   "execution_count": null,
   "metadata": {},
   "outputs": [],
   "source": []
  }
 ],
 "metadata": {
  "kernelspec": {
   "display_name": "Python 3",
   "language": "python",
   "name": "python3"
  },
  "language_info": {
   "codemirror_mode": {
    "name": "ipython",
    "version": 3
   },
   "file_extension": ".py",
   "mimetype": "text/x-python",
   "name": "python",
   "nbconvert_exporter": "python",
   "pygments_lexer": "ipython3",
   "version": "3.11.2"
  },
  "orig_nbformat": 4,
  "vscode": {
   "interpreter": {
    "hash": "b0fa6594d8f4cbf19f97940f81e996739fb7646882a419484c72d19e05852a7e"
   }
  }
 },
 "nbformat": 4,
 "nbformat_minor": 2
}
