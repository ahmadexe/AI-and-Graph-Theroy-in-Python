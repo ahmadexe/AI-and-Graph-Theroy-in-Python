{
 "cells": [
  {
   "cell_type": "code",
   "execution_count": 1,
   "id": "a934932b",
   "metadata": {},
   "outputs": [
    {
     "name": "stdout",
     "output_type": "stream",
     "text": [
      "['A', 'C', 'F']\n"
     ]
    }
   ],
   "source": [
    "from queue import Queue\n",
    "\n",
    "class Graph:\n",
    "    def __init__(self, graph, directed):\n",
    "        self.graph = graph\n",
    "        self.directed = directed\n",
    "    \n",
    "    def printGraph(self):\n",
    "        print(self.graph)\n",
    "     \n",
    "    def BFS(self, source):\n",
    "        visited = {}\n",
    "        parent = {}\n",
    "        distance = {} \n",
    "        bfs_traversal_output = []\n",
    "        \n",
    "        for node in self.graph.keys():\n",
    "            visited[node] = False\n",
    "            parent[node] = None\n",
    "            distance[node] = -1\n",
    "        \n",
    "        q = Queue()\n",
    "        visited[source] = True\n",
    "        distance[source] = 0\n",
    "        parent[source] = None\n",
    "        q.put(source)\n",
    "        \n",
    "        while not q.empty():\n",
    "            node = q.get()\n",
    "            bfs_traversal_output.append(node)\n",
    "            for child in self.graph[node]:\n",
    "                if not visited[child]:\n",
    "                    visited[child] = True\n",
    "                    distance[child] = distance[node] + 1\n",
    "                    parent[child] = node\n",
    "                    q.put(child)\n",
    "            \n",
    "        return {\n",
    "            'output': bfs_traversal_output,\n",
    "            'parents_list': parent\n",
    "        }\n",
    "    \n",
    "    def getPath(self, source, destination):\n",
    "        bfs = self.BFS(source)\n",
    "        parents = bfs['parents_list']\n",
    "        location = destination\n",
    "        path = []\n",
    "        while location is not None:\n",
    "            path.append(location)\n",
    "            location = parents[location]\n",
    "        path.reverse()\n",
    "        return path\n",
    "        \n",
    "\n",
    "     \n",
    "def main():\n",
    "    g = {\n",
    "        'A': ['B', 'E', 'C'],\n",
    "        'B': ['A', 'E', 'D'],\n",
    "        'C': ['A', 'F', 'G'],\n",
    "        'D': ['B', 'E'],\n",
    "        'E': ['A', 'B', 'D'],\n",
    "        'F': ['C'],\n",
    "        'G': ['C'],\n",
    "    }\n",
    "    graph = Graph(g,False)\n",
    "    path = graph.getPath(\"A\", \"F\")\n",
    "    print(path)\n",
    "    \n",
    "if __name__ == \"__main__\":\n",
    "    main()   \n"
   ]
  },
  {
   "cell_type": "code",
   "execution_count": null,
   "id": "dd6818fc",
   "metadata": {},
   "outputs": [],
   "source": []
  }
 ],
 "metadata": {
  "kernelspec": {
   "display_name": "Python 3 (ipykernel)",
   "language": "python",
   "name": "python3"
  },
  "language_info": {
   "codemirror_mode": {
    "name": "ipython",
    "version": 3
   },
   "file_extension": ".py",
   "mimetype": "text/x-python",
   "name": "python",
   "nbconvert_exporter": "python",
   "pygments_lexer": "ipython3",
   "version": "3.11.2"
  }
 },
 "nbformat": 4,
 "nbformat_minor": 5
}
